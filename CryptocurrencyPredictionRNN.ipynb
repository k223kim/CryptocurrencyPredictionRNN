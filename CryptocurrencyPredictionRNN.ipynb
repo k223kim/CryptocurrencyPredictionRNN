{
  "nbformat": 4,
  "nbformat_minor": 0,
  "metadata": {
    "colab": {
      "name": "CryptocurrencyPredictionRNN.ipynb",
      "provenance": [],
      "collapsed_sections": []
    },
    "kernelspec": {
      "name": "python3",
      "display_name": "Python 3"
    },
    "accelerator": "GPU"
  },
  "cells": [
    {
      "cell_type": "code",
      "metadata": {
        "id": "_pGHdZqKDa3H",
        "colab_type": "code",
        "outputId": "73d647d7-02e1-4cf1-efdf-8f0f278bcff1",
        "colab": {
          "base_uri": "https://localhost:8080/",
          "height": 118
        }
      },
      "source": [
        "!git clone https://github.com/k223kim/CryptocurrencyPredictionRNN.git"
      ],
      "execution_count": 1,
      "outputs": [
        {
          "output_type": "stream",
          "text": [
            "Cloning into 'CryptocurrencyPredictionRNN'...\n",
            "remote: Enumerating objects: 16, done.\u001b[K\n",
            "remote: Counting objects: 100% (16/16), done.\u001b[K\n",
            "remote: Compressing objects: 100% (12/12), done.\u001b[K\n",
            "remote: Total 16 (delta 2), reused 16 (delta 2), pack-reused 0\u001b[K\n",
            "Unpacking objects: 100% (16/16), done.\n"
          ],
          "name": "stdout"
        }
      ]
    },
    {
      "cell_type": "code",
      "metadata": {
        "id": "zlmmY0xuDkWs",
        "colab_type": "code",
        "outputId": "66326d71-10ef-4129-e986-5f91055d6346",
        "colab": {
          "base_uri": "https://localhost:8080/",
          "height": 34
        }
      },
      "source": [
        "pwd"
      ],
      "execution_count": 2,
      "outputs": [
        {
          "output_type": "execute_result",
          "data": {
            "text/plain": [
              "'/content'"
            ]
          },
          "metadata": {
            "tags": []
          },
          "execution_count": 2
        }
      ]
    },
    {
      "cell_type": "code",
      "metadata": {
        "id": "-9_mLX3K7Omi",
        "colab_type": "code",
        "colab": {}
      },
      "source": [
        "import pandas as pd\n",
        "import os\n",
        "from sklearn import preprocessing #to scale\n",
        "from collections import deque\n",
        "import random\n",
        "import numpy as np"
      ],
      "execution_count": 0,
      "outputs": []
    },
    {
      "cell_type": "code",
      "metadata": {
        "id": "TNgc5CwY6OSA",
        "colab_type": "code",
        "colab": {}
      },
      "source": [
        "# df = pd.read_csv(\"/content/CryptocurrencyPredictionRNN/crypto_data/LTC-USD.csv\", names=[\"time\", \"low\", \"high\", \"open\", \"close\", \"volume\"])"
      ],
      "execution_count": 0,
      "outputs": []
    },
    {
      "cell_type": "code",
      "metadata": {
        "id": "NspuPkhl6yxT",
        "colab_type": "code",
        "outputId": "7a01ed57-0b51-4da1-cdea-6617150c31df",
        "colab": {
          "base_uri": "https://localhost:8080/",
          "height": 118
        }
      },
      "source": [
        "# print(df.head())"
      ],
      "execution_count": 0,
      "outputs": [
        {
          "output_type": "stream",
          "text": [
            "         time        low       high       open      close      volume\n",
            "0  1528968660  96.580002  96.589996  96.589996  96.580002    9.647200\n",
            "1  1528968720  96.449997  96.669998  96.589996  96.660004  314.387024\n",
            "2  1528968780  96.470001  96.570000  96.570000  96.570000   77.129799\n",
            "3  1528968840  96.449997  96.570000  96.570000  96.500000    7.216067\n",
            "4  1528968900  96.279999  96.540001  96.500000  96.389999  524.539978\n"
          ],
          "name": "stdout"
        }
      ]
    },
    {
      "cell_type": "code",
      "metadata": {
        "id": "OlAKB2dYHuGW",
        "colab_type": "code",
        "colab": {}
      },
      "source": [
        "SEQ_LEN = 60 #update once a minute\n",
        "FUTURE_PERIOD_PREDICT = 3 #how many period forward? 1period = 1 min\n",
        "RATIO_TO_PREDICT = \"LTC-USD\" #what are we predicting?"
      ],
      "execution_count": 0,
      "outputs": []
    },
    {
      "cell_type": "code",
      "metadata": {
        "id": "5blQJw35IOjc",
        "colab_type": "code",
        "colab": {}
      },
      "source": [
        "#create the target (since it is a supervised learning)\n",
        "\n",
        "def classify(current, future):\n",
        "  if float(future) > float(current):\n",
        "    return 1 #you should buy this!\n",
        "  else:\n",
        "    return 0"
      ],
      "execution_count": 0,
      "outputs": []
    },
    {
      "cell_type": "code",
      "metadata": {
        "id": "6nEjeH9QR4_L",
        "colab_type": "code",
        "colab": {}
      },
      "source": [
        "def preprocess_df(df):\n",
        "  #scaling\n",
        "  df = df.drop('future', 1) #don't need future column (target column)\n",
        "  \n",
        "  for col in df.columns:\n",
        "    if col != \"target\":\n",
        "      df[col] = df[col].pct_change() #this normalize the data\n",
        "      df.dropna(inplace=True)\n",
        "      df[col] = preprocessing.scale(df[col].values) #from sklearn, scale from 0 to 1\n",
        "  \n",
        "  \n",
        "  df.dropna(inplace=True) #just in case (if it creates something that is not a number, we will drop!)\n",
        "  \n",
        "  sequential_data = [] #list\n",
        "  prev_days = deque(maxlen = SEQ_LEN) \n",
        "  #we keep append to the list and as it reaches the length of 60, it pops out the old item\n",
        "  \n",
        "  #print to double check\n",
        "#   print(df.head())\n",
        "  \n",
        "#   for c in df.columns:\n",
        "#     print(c)\n",
        "  \n",
        "  #iterate over the columns\n",
        "  for i in df.values: \n",
        "    #df.values; converts the dataframe into a list of lists\n",
        "    #would not contain time\n",
        "    #still in the order of the index\n",
        "    #it will contain target\n",
        "    \n",
        "    #i is the row of all the columns (close, volume, etc)\n",
        "    \n",
        "    prev_days.append([n for n in i[:-1]]) \n",
        "    #append a list\n",
        "    #n for n : each value in that list of list (each of the columns)\n",
        "    #up to the last i; so we are not taking the target\n",
        "    \n",
        "    if len(prev_days) == SEQ_LEN:\n",
        "      sequential_data.append([np.array(prev_days), i[-1]])\n",
        "      #append the features and the labels in a numpy arrays\n",
        "      #sequence of 60 feature sets\n",
        "      #current label: i[-1] (target; 0 or a 1)\n",
        "     \n",
        "   \n",
        "  random.shuffle(sequential_data)\n",
        "  \n",
        "  #balance data\n",
        "  buys = []\n",
        "  sells = []\n",
        "  \n",
        "  for seq, target in sequential_data:\n",
        "    if target == 0:\n",
        "      sells.append([seq, target])\n",
        "    elif target == 1:\n",
        "      buys.append([seq, target])\n",
        "      \n",
        "  random.shuffle(buys)\n",
        "  random.shuffle(sells)\n",
        "  \n",
        "  #what is the minimum value?\n",
        "  lower = min(len(buys), len(sells))\n",
        "  \n",
        "  buys = buys[:lower]\n",
        "  sells = sells[:lower]\n",
        "  \n",
        "  sequential_data = buys+sells\n",
        "  random.shuffle(sequential_data)\n",
        "  \n",
        "  #split in x and y\n",
        "  \n",
        "  X = []\n",
        "  y = []\n",
        "  \n",
        "  for seq, target in sequential_data:\n",
        "    X.append(seq)\n",
        "    y.append(target)\n",
        "    \n",
        "  return np.array(X), y"
      ],
      "execution_count": 0,
      "outputs": []
    },
    {
      "cell_type": "code",
      "metadata": {
        "id": "sZHfGqFHT5oK",
        "colab_type": "code",
        "colab": {}
      },
      "source": [
        "#visualize (making sure to comment later)\n",
        "# preprocess_df(main_df)\n",
        "#analysis:\n",
        "#everything is converted to percent change and are scaled,\n",
        "#the columns are in order\n",
        "\n",
        "#the sequences will be a sequence of price and volume and NOT a target (cheating!)\n"
      ],
      "execution_count": 0,
      "outputs": []
    },
    {
      "cell_type": "code",
      "metadata": {
        "id": "AHZGZO7PEOhW",
        "colab_type": "code",
        "outputId": "04da7518-bc70-4b05-e005-824064a97e17",
        "colab": {
          "base_uri": "https://localhost:8080/",
          "height": 538
        }
      },
      "source": [
        "main_df = pd.DataFrame()\n",
        "\n",
        "ratios = [\"BTC-USD\", \"LTC-USD\", \"ETH-USD\", \"BCH-USD\"]\n",
        "for ratio in ratios:\n",
        "  dataset = f\"/content/CryptocurrencyPredictionRNN/crypto_data/{ratio}.csv\"\n",
        "  \n",
        "  df = pd.read_csv(dataset, names=[\"time\", \"low\", \"high\", \"open\", \"close\", \"volume\"])\n",
        "  print(df.head())\n",
        "  \n",
        "  #merge all dataframes\n",
        "  #for all dataframes their columns are named the same\n",
        "  #so we need a new column which distinguishes between those dataframes\n",
        "  #inplace means that we don't have to redefine the dataframes\n",
        "  df.rename(columns={\"close\": f\"{ratio}_close\", \"volume\":f\"{ratio}_volume\"}, inplace = True)\n",
        "\n",
        "  df.set_index(\"time\", inplace=True)\n",
        "  df = df[[f\"{ratio}_close\", f\"{ratio}_volume\"]]\n",
        "\n",
        "  if len(main_df) == 0: # if it is empty\n",
        "    main_df = df\n",
        "  else:\n",
        "    main_df = main_df.join(df)\n",
        "    \n",
        "#get future price\n",
        "#future price is based on the close column\n",
        "#shift the close column up by how many periods forward you want to predict\n",
        "\n",
        "\n",
        "# print(main_df.head())\n",
        "# for c in main_df.columns:\n",
        "#   print(c) #double check the columns\n",
        "\n",
        "\n",
        "main_df[\"future\"] = main_df[f\"{RATIO_TO_PREDICT}_close\"].shift(-FUTURE_PERIOD_PREDICT)\n",
        "\n",
        "print(main_df[[f\"{RATIO_TO_PREDICT}_close\", \"future\"]].head())\n",
        "#e.g. current price: 96.58 predicted future price: 96.5\n"
      ],
      "execution_count": 32,
      "outputs": [
        {
          "output_type": "stream",
          "text": [
            "         time          low         high         open        close    volume\n",
            "0  1528968660  6489.549805  6489.560059  6489.560059  6489.549805  0.587100\n",
            "1  1528968720  6487.370117  6489.560059  6489.549805  6487.379883  7.706374\n",
            "2  1528968780  6479.410156  6487.370117  6487.370117  6479.410156  3.088252\n",
            "3  1528968840  6479.410156  6479.419922  6479.419922  6479.410156  1.404100\n",
            "4  1528968900  6475.930176  6479.979980  6479.410156  6479.979980  0.753000\n",
            "         time        low       high       open      close      volume\n",
            "0  1528968660  96.580002  96.589996  96.589996  96.580002    9.647200\n",
            "1  1528968720  96.449997  96.669998  96.589996  96.660004  314.387024\n",
            "2  1528968780  96.470001  96.570000  96.570000  96.570000   77.129799\n",
            "3  1528968840  96.449997  96.570000  96.570000  96.500000    7.216067\n",
            "4  1528968900  96.279999  96.540001  96.500000  96.389999  524.539978\n",
            "         time        low   high        open      close     volume\n",
            "0  1528968720  485.98999  486.5  486.019989  486.01001  26.019083\n",
            "1  1528968780  486.00000  486.0  486.000000  486.00000   8.449400\n",
            "2  1528968840  485.75000  486.0  486.000000  485.75000  26.994646\n",
            "3  1528968900  485.75000  486.0  485.750000  486.00000  77.355759\n",
            "4  1528968960  485.98999  486.0  486.000000  486.00000   7.503300\n",
            "         time         low        high        open       close     volume\n",
            "0  1528968660  871.650024  871.729980  871.650024  871.719971   5.675361\n",
            "1  1528968720  870.859985  871.719971  871.719971  870.859985  26.856577\n",
            "2  1528968780  870.099976  871.090027  871.090027  870.099976   1.124300\n",
            "3  1528968840  868.830017  870.950012  868.830017  870.789978   1.749862\n",
            "4  1528968900  870.000000  870.000000  870.000000  870.000000   1.680500\n",
            "            LTC-USD_close     future\n",
            "time                                \n",
            "1528968660      96.580002  96.500000\n",
            "1528968720      96.660004  96.389999\n",
            "1528968780      96.570000  96.519997\n",
            "1528968840      96.500000  96.440002\n",
            "1528968900      96.389999  96.470001\n"
          ],
          "name": "stdout"
        }
      ]
    },
    {
      "cell_type": "code",
      "metadata": {
        "id": "iAjYnG-bJfa5",
        "colab_type": "code",
        "outputId": "3c24a2c8-7c69-4012-bf01-7e41494ac968",
        "colab": {
          "base_uri": "https://localhost:8080/",
          "height": 218
        }
      },
      "source": [
        "#map the function to the new column \"target\"\n",
        "#converts the output to a list which we will assign as a column\n",
        "main_df[\"target\"]= list(map(classify, main_df[f\"{RATIO_TO_PREDICT}_close\"], main_df[\"future\"]))\n",
        "\n",
        "print(main_df[[f\"{RATIO_TO_PREDICT}_close\", \"future\", \"target\"]].head(10))\n",
        "#confirm if the target works (0-bad, 1-good)"
      ],
      "execution_count": 33,
      "outputs": [
        {
          "output_type": "stream",
          "text": [
            "            LTC-USD_close     future  target\n",
            "time                                        \n",
            "1528968660      96.580002  96.500000       0\n",
            "1528968720      96.660004  96.389999       0\n",
            "1528968780      96.570000  96.519997       0\n",
            "1528968840      96.500000  96.440002       0\n",
            "1528968900      96.389999  96.470001       1\n",
            "1528968960      96.519997  96.400002       0\n",
            "1528969020      96.440002  96.400002       0\n",
            "1528969080      96.470001  96.400002       0\n",
            "1528969140      96.400002  96.400002       0\n",
            "1528969200      96.400002  96.400002       0\n"
          ],
          "name": "stdout"
        }
      ]
    },
    {
      "cell_type": "code",
      "metadata": {
        "id": "UYvIAvKMEuMr",
        "colab_type": "code",
        "outputId": "61a469cb-298b-4219-cb29-979e258c11fd",
        "colab": {
          "base_uri": "https://localhost:8080/",
          "height": 84
        }
      },
      "source": [
        "#make sequence, balance, normalize, scale\n",
        "#sequential data; cannot just shuffle and take a random percentage\n",
        "#the model is more likely to over-fit the in-sample data and out-sample data\n",
        "#take a chunk of the sequences and seperate them away\n",
        "#for time-series data: out-sample data must be a chunck of data in the future\n",
        "#in the case of our data: take the last 5 percent of the historical data and seperate that out\n",
        "#i.e. as if we built the model 5% of the time ago and then forward test it\n",
        "\n",
        "#true out of sample?\n",
        "#out of sample testing?\n",
        "#true forward test?\n",
        "\n",
        "times = sorted(main_df.index.values) #.values => converts to numpy array\n",
        "last_5pct = times[-int(0.05*len(times))]\n",
        "print(last_5pct)\n",
        "\n",
        "#separate the validation data and out of sample data and training data\n",
        "\n",
        "validation_main_df = main_df[(main_df.index >= last_5pct)]\n",
        "#training data\n",
        "main_df = main_df[(main_df.index < last_5pct)]\n",
        "\n",
        "train_x, train_y = preprocess_df(main_df)\n",
        "validation_x, validation_y = preprocess_df(validation_main_df)\n",
        "\n",
        "print(f\"train data: {len(train_x)} validation: {len(validation_x)}\")\n",
        "print(f\"Don't buys: {train_y.count(0)}, buys: {train_y.count(1)}\")\n",
        "print(f\"VALIDATION Don't buys: {validation_y.count(0)}, buys: {validation_y.count(1)}\")"
      ],
      "execution_count": 36,
      "outputs": [
        {
          "output_type": "stream",
          "text": [
            "1534643640\n",
            "train data: 65962 validation: 3174\n",
            "Don't buys: 32981, buys: 32981\n",
            "VALIDATION Don't buys: 1587, buys: 1587\n"
          ],
          "name": "stdout"
        }
      ]
    },
    {
      "cell_type": "code",
      "metadata": {
        "id": "01KQ1iosGeQV",
        "colab_type": "code",
        "colab": {}
      },
      "source": [
        "\n"
      ],
      "execution_count": 0,
      "outputs": []
    }
  ]
}