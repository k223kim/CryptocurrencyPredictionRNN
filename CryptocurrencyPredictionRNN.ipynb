{
  "nbformat": 4,
  "nbformat_minor": 0,
  "metadata": {
    "colab": {
      "name": "CryptocurrencyPredictionRNN.ipynb",
      "provenance": [],
      "collapsed_sections": []
    },
    "kernelspec": {
      "name": "python3",
      "display_name": "Python 3"
    },
    "accelerator": "GPU"
  },
  "cells": [
    {
      "cell_type": "code",
      "metadata": {
        "id": "_pGHdZqKDa3H",
        "colab_type": "code",
        "colab": {
          "base_uri": "https://localhost:8080/",
          "height": 118
        },
        "outputId": "bc3757d1-9def-43a5-bbee-c84ab4b26b73"
      },
      "source": [
        "!git clone https://github.com/k223kim/CryptocurrencyPredictionRNN.git"
      ],
      "execution_count": 3,
      "outputs": [
        {
          "output_type": "stream",
          "text": [
            "Cloning into 'CryptocurrencyPredictionRNN'...\n",
            "remote: Enumerating objects: 10, done.\u001b[K\n",
            "remote: Counting objects: 100% (10/10), done.\u001b[K\n",
            "remote: Compressing objects: 100% (8/8), done.\u001b[K\n",
            "remote: Total 10 (delta 0), reused 10 (delta 0), pack-reused 0\n",
            "Unpacking objects: 100% (10/10), done.\n"
          ],
          "name": "stdout"
        }
      ]
    },
    {
      "cell_type": "code",
      "metadata": {
        "id": "zlmmY0xuDkWs",
        "colab_type": "code",
        "colab": {
          "base_uri": "https://localhost:8080/",
          "height": 34
        },
        "outputId": "4bae057e-8bf1-498f-94f4-0b1ed249327d"
      },
      "source": [
        "pwd"
      ],
      "execution_count": 4,
      "outputs": [
        {
          "output_type": "execute_result",
          "data": {
            "text/plain": [
              "'/content'"
            ]
          },
          "metadata": {
            "tags": []
          },
          "execution_count": 4
        }
      ]
    },
    {
      "cell_type": "code",
      "metadata": {
        "id": "-9_mLX3K7Omi",
        "colab_type": "code",
        "colab": {}
      },
      "source": [
        "import pandas as pd\n",
        "import os"
      ],
      "execution_count": 0,
      "outputs": []
    },
    {
      "cell_type": "code",
      "metadata": {
        "id": "TNgc5CwY6OSA",
        "colab_type": "code",
        "colab": {}
      },
      "source": [
        "# df = pd.read_csv(\"/content/CryptocurrencyPredictionRNN/crypto_data/LTC-USD.csv\", names=[\"time\", \"low\", \"high\", \"open\", \"close\", \"volume\"])"
      ],
      "execution_count": 0,
      "outputs": []
    },
    {
      "cell_type": "code",
      "metadata": {
        "id": "NspuPkhl6yxT",
        "colab_type": "code",
        "colab": {
          "base_uri": "https://localhost:8080/",
          "height": 118
        },
        "outputId": "7a01ed57-0b51-4da1-cdea-6617150c31df"
      },
      "source": [
        "# print(df.head())"
      ],
      "execution_count": 7,
      "outputs": [
        {
          "output_type": "stream",
          "text": [
            "         time        low       high       open      close      volume\n",
            "0  1528968660  96.580002  96.589996  96.589996  96.580002    9.647200\n",
            "1  1528968720  96.449997  96.669998  96.589996  96.660004  314.387024\n",
            "2  1528968780  96.470001  96.570000  96.570000  96.570000   77.129799\n",
            "3  1528968840  96.449997  96.570000  96.570000  96.500000    7.216067\n",
            "4  1528968900  96.279999  96.540001  96.500000  96.389999  524.539978\n"
          ],
          "name": "stdout"
        }
      ]
    },
    {
      "cell_type": "code",
      "metadata": {
        "id": "OlAKB2dYHuGW",
        "colab_type": "code",
        "colab": {}
      },
      "source": [
        "SEQ_LEN = 60 #update once a minute\n",
        "FUTURE_PERIOD_PREDICT = 3 #how many period forward? 1period = 1 min\n",
        "RATIO_TO_PREDICT = \"LTC-USD\" #what are we predicting?"
      ],
      "execution_count": 0,
      "outputs": []
    },
    {
      "cell_type": "code",
      "metadata": {
        "id": "5blQJw35IOjc",
        "colab_type": "code",
        "colab": {}
      },
      "source": [
        "#create the target (since it is a supervised learning)\n",
        "\n",
        "def classify(current, future):\n",
        "  if float(future) > float(current):\n",
        "    return 1 #you should buy this!\n",
        "  else:\n",
        "    return 0"
      ],
      "execution_count": 0,
      "outputs": []
    },
    {
      "cell_type": "code",
      "metadata": {
        "id": "AHZGZO7PEOhW",
        "colab_type": "code",
        "colab": {
          "base_uri": "https://localhost:8080/",
          "height": 538
        },
        "outputId": "e21d004d-b6ba-4c6b-db59-9ba804205b98"
      },
      "source": [
        "main_df = pd.DataFrame()\n",
        "\n",
        "ratios = [\"BTC-USD\", \"LTC-USD\", \"ETH-USD\", \"BCH-USD\"]\n",
        "for ratio in ratios:\n",
        "  dataset = f\"/content/CryptocurrencyPredictionRNN/crypto_data/{ratio}.csv\"\n",
        "  \n",
        "  df = pd.read_csv(dataset, names=[\"time\", \"low\", \"high\", \"open\", \"close\", \"volume\"])\n",
        "  print(df.head())\n",
        "  \n",
        "  #merge all dataframes\n",
        "  #for all dataframes their columns are named the same\n",
        "  #so we need a new column which distinguishes between those dataframes\n",
        "  #inplace means that we don't have to redefine the dataframes\n",
        "  df.rename(columns={\"close\": f\"{ratio}_close\", \"volume\":f\"{ratio}_volume\"}, inplace = True)\n",
        "\n",
        "  df.set_index(\"time\", inplace=True)\n",
        "  df = df[[f\"{ratio}_close\", f\"{ratio}_volume\"]]\n",
        "\n",
        "  if len(main_df) == 0: # if it is empty\n",
        "    main_df = df\n",
        "  else:\n",
        "    main_df = main_df.join(df)\n",
        "    \n",
        "#get future price\n",
        "#future price is based on the close column\n",
        "#shift the close column up by how many periods forward you want to predict\n",
        "\n",
        "\n",
        "# print(main_df.head())\n",
        "# for c in main_df.columns:\n",
        "#   print(c) #double check the columns\n",
        "\n",
        "\n",
        "main_df[\"future\"] = main_df[f\"{RATIO_TO_PREDICT}_close\"].shift(-FUTURE_PERIOD_PREDICT)\n",
        "\n",
        "print(main_df[[f\"{RATIO_TO_PREDICT}_close\", \"future\"]].head())\n",
        "#e.g. current price: 96.58 predicted future price: 96.5\n"
      ],
      "execution_count": 43,
      "outputs": [
        {
          "output_type": "stream",
          "text": [
            "         time          low         high         open        close    volume\n",
            "0  1528968660  6489.549805  6489.560059  6489.560059  6489.549805  0.587100\n",
            "1  1528968720  6487.370117  6489.560059  6489.549805  6487.379883  7.706374\n",
            "2  1528968780  6479.410156  6487.370117  6487.370117  6479.410156  3.088252\n",
            "3  1528968840  6479.410156  6479.419922  6479.419922  6479.410156  1.404100\n",
            "4  1528968900  6475.930176  6479.979980  6479.410156  6479.979980  0.753000\n",
            "         time        low       high       open      close      volume\n",
            "0  1528968660  96.580002  96.589996  96.589996  96.580002    9.647200\n",
            "1  1528968720  96.449997  96.669998  96.589996  96.660004  314.387024\n",
            "2  1528968780  96.470001  96.570000  96.570000  96.570000   77.129799\n",
            "3  1528968840  96.449997  96.570000  96.570000  96.500000    7.216067\n",
            "4  1528968900  96.279999  96.540001  96.500000  96.389999  524.539978\n",
            "         time        low   high        open      close     volume\n",
            "0  1528968720  485.98999  486.5  486.019989  486.01001  26.019083\n",
            "1  1528968780  486.00000  486.0  486.000000  486.00000   8.449400\n",
            "2  1528968840  485.75000  486.0  486.000000  485.75000  26.994646\n",
            "3  1528968900  485.75000  486.0  485.750000  486.00000  77.355759\n",
            "4  1528968960  485.98999  486.0  486.000000  486.00000   7.503300\n",
            "         time         low        high        open       close     volume\n",
            "0  1528968660  871.650024  871.729980  871.650024  871.719971   5.675361\n",
            "1  1528968720  870.859985  871.719971  871.719971  870.859985  26.856577\n",
            "2  1528968780  870.099976  871.090027  871.090027  870.099976   1.124300\n",
            "3  1528968840  868.830017  870.950012  868.830017  870.789978   1.749862\n",
            "4  1528968900  870.000000  870.000000  870.000000  870.000000   1.680500\n",
            "            LTC-USD_close     future\n",
            "time                                \n",
            "1528968660      96.580002  96.500000\n",
            "1528968720      96.660004  96.389999\n",
            "1528968780      96.570000  96.519997\n",
            "1528968840      96.500000  96.440002\n",
            "1528968900      96.389999  96.470001\n"
          ],
          "name": "stdout"
        }
      ]
    },
    {
      "cell_type": "code",
      "metadata": {
        "id": "iAjYnG-bJfa5",
        "colab_type": "code",
        "colab": {
          "base_uri": "https://localhost:8080/",
          "height": 218
        },
        "outputId": "3ea9c9b7-f1dc-4b08-e5dd-afb11a89728e"
      },
      "source": [
        "#map the function to the new column \"target\"\n",
        "#converts the output to a list which we will assign as a column\n",
        "main_df[\"target\"]= list(map(classify, main_df[f\"{RATIO_TO_PREDICT}_close\"], main_df[\"future\"]))\n",
        "\n",
        "print(main_df[[f\"{RATIO_TO_PREDICT}_close\", \"future\", \"target\"]].head(10))\n",
        "#confirm if the target works (0-bad, 1-good)"
      ],
      "execution_count": 49,
      "outputs": [
        {
          "output_type": "stream",
          "text": [
            "            LTC-USD_close     future  target\n",
            "time                                        \n",
            "1528968660      96.580002  96.500000       0\n",
            "1528968720      96.660004  96.389999       0\n",
            "1528968780      96.570000  96.519997       0\n",
            "1528968840      96.500000  96.440002       0\n",
            "1528968900      96.389999  96.470001       1\n",
            "1528968960      96.519997  96.400002       0\n",
            "1528969020      96.440002  96.400002       0\n",
            "1528969080      96.470001  96.400002       0\n",
            "1528969140      96.400002  96.400002       0\n",
            "1528969200      96.400002  96.400002       0\n"
          ],
          "name": "stdout"
        }
      ]
    },
    {
      "cell_type": "code",
      "metadata": {
        "id": "UYvIAvKMEuMr",
        "colab_type": "code",
        "colab": {}
      },
      "source": [
        ""
      ],
      "execution_count": 0,
      "outputs": []
    },
    {
      "cell_type": "code",
      "metadata": {
        "id": "01KQ1iosGeQV",
        "colab_type": "code",
        "colab": {}
      },
      "source": [
        "\n"
      ],
      "execution_count": 0,
      "outputs": []
    }
  ]
}